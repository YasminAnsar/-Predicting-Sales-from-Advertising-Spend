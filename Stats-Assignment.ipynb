{
 "cells": [
  {
   "cell_type": "markdown",
   "id": "57aaba63",
   "metadata": {},
   "source": [
    "#  Predicting Sales from Advertising Spend"
   ]
  },
  {
   "cell_type": "markdown",
   "id": "54f1356c",
   "metadata": {},
   "source": [
    "## Problem Statement:\n",
    "HINA Inc. is a large FMCG company that is streamlining its marketing budget.This involves taking stock of all its marketing strategies. This, in turn, means re-assessing \n",
    "the effectiveness of its existing spend on various marketing channels. As a marketing data analyst,you need to figure out if spending money on TV advertising campaigns results in a direct increase\n",
    "in sales. In other words, you need to find out if the TV advertising spend and the sales figures share\n",
    "a linear relationship and how strong that relationship is.\n"
   ]
  },
  {
   "cell_type": "markdown",
   "id": "392d8e5b",
   "metadata": {},
   "source": [
    "### Importing modules"
   ]
  },
  {
   "cell_type": "code",
   "execution_count": 18,
   "id": "6766bf84",
   "metadata": {},
   "outputs": [],
   "source": [
    "import numpy as np\n",
    "import pandas as pd\n",
    "import matplotlib.pyplot as plt\n",
    "import seaborn as sns\n",
    "from scipy import stats"
   ]
  },
  {
   "cell_type": "markdown",
   "id": "22ac5f2d",
   "metadata": {},
   "source": [
    "### Ingesting the data file using pandas module"
   ]
  },
  {
   "cell_type": "code",
   "execution_count": 20,
   "id": "b63b939c",
   "metadata": {},
   "outputs": [
    {
     "data": {
      "text/html": [
       "<div>\n",
       "<style scoped>\n",
       "    .dataframe tbody tr th:only-of-type {\n",
       "        vertical-align: middle;\n",
       "    }\n",
       "\n",
       "    .dataframe tbody tr th {\n",
       "        vertical-align: top;\n",
       "    }\n",
       "\n",
       "    .dataframe thead th {\n",
       "        text-align: right;\n",
       "    }\n",
       "</style>\n",
       "<table border=\"1\" class=\"dataframe\">\n",
       "  <thead>\n",
       "    <tr style=\"text-align: right;\">\n",
       "      <th></th>\n",
       "      <th>TV</th>\n",
       "      <th>Radio</th>\n",
       "      <th>Newspaper</th>\n",
       "      <th>Sales</th>\n",
       "    </tr>\n",
       "  </thead>\n",
       "  <tbody>\n",
       "    <tr>\n",
       "      <th>0</th>\n",
       "      <td>230.1</td>\n",
       "      <td>37.8</td>\n",
       "      <td>69.2</td>\n",
       "      <td>22.1</td>\n",
       "    </tr>\n",
       "    <tr>\n",
       "      <th>1</th>\n",
       "      <td>44.5</td>\n",
       "      <td>39.3</td>\n",
       "      <td>45.1</td>\n",
       "      <td>10.4</td>\n",
       "    </tr>\n",
       "    <tr>\n",
       "      <th>2</th>\n",
       "      <td>17.2</td>\n",
       "      <td>45.9</td>\n",
       "      <td>69.3</td>\n",
       "      <td>12.0</td>\n",
       "    </tr>\n",
       "    <tr>\n",
       "      <th>3</th>\n",
       "      <td>151.5</td>\n",
       "      <td>41.3</td>\n",
       "      <td>58.5</td>\n",
       "      <td>16.5</td>\n",
       "    </tr>\n",
       "    <tr>\n",
       "      <th>4</th>\n",
       "      <td>180.8</td>\n",
       "      <td>10.8</td>\n",
       "      <td>58.4</td>\n",
       "      <td>17.9</td>\n",
       "    </tr>\n",
       "  </tbody>\n",
       "</table>\n",
       "</div>"
      ],
      "text/plain": [
       "      TV  Radio  Newspaper  Sales\n",
       "0  230.1   37.8       69.2   22.1\n",
       "1   44.5   39.3       45.1   10.4\n",
       "2   17.2   45.9       69.3   12.0\n",
       "3  151.5   41.3       58.5   16.5\n",
       "4  180.8   10.8       58.4   17.9"
      ]
     },
     "execution_count": 20,
     "metadata": {},
     "output_type": "execute_result"
    }
   ],
   "source": [
    "data = pd.read_csv(\"advertising.csv\")\n",
    "data.head()"
   ]
  },
  {
   "cell_type": "markdown",
   "id": "019b38f5",
   "metadata": {},
   "source": [
    "### Looking the data structure "
   ]
  },
  {
   "cell_type": "code",
   "execution_count": 21,
   "id": "6f185994",
   "metadata": {},
   "outputs": [
    {
     "data": {
      "text/plain": [
       "(200, 4)"
      ]
     },
     "execution_count": 21,
     "metadata": {},
     "output_type": "execute_result"
    }
   ],
   "source": [
    "#To see rows and columns in the data\n",
    "data.shape"
   ]
  },
  {
   "cell_type": "code",
   "execution_count": 22,
   "id": "e0fa75b1",
   "metadata": {},
   "outputs": [
    {
     "data": {
      "text/html": [
       "<div>\n",
       "<style scoped>\n",
       "    .dataframe tbody tr th:only-of-type {\n",
       "        vertical-align: middle;\n",
       "    }\n",
       "\n",
       "    .dataframe tbody tr th {\n",
       "        vertical-align: top;\n",
       "    }\n",
       "\n",
       "    .dataframe thead th {\n",
       "        text-align: right;\n",
       "    }\n",
       "</style>\n",
       "<table border=\"1\" class=\"dataframe\">\n",
       "  <thead>\n",
       "    <tr style=\"text-align: right;\">\n",
       "      <th></th>\n",
       "      <th>TV</th>\n",
       "      <th>Radio</th>\n",
       "      <th>Newspaper</th>\n",
       "      <th>Sales</th>\n",
       "    </tr>\n",
       "  </thead>\n",
       "  <tbody>\n",
       "    <tr>\n",
       "      <th>count</th>\n",
       "      <td>200.000000</td>\n",
       "      <td>200.000000</td>\n",
       "      <td>200.000000</td>\n",
       "      <td>200.000000</td>\n",
       "    </tr>\n",
       "    <tr>\n",
       "      <th>mean</th>\n",
       "      <td>147.042500</td>\n",
       "      <td>23.264000</td>\n",
       "      <td>30.554000</td>\n",
       "      <td>15.130500</td>\n",
       "    </tr>\n",
       "    <tr>\n",
       "      <th>std</th>\n",
       "      <td>85.854236</td>\n",
       "      <td>14.846809</td>\n",
       "      <td>21.778621</td>\n",
       "      <td>5.283892</td>\n",
       "    </tr>\n",
       "    <tr>\n",
       "      <th>min</th>\n",
       "      <td>0.700000</td>\n",
       "      <td>0.000000</td>\n",
       "      <td>0.300000</td>\n",
       "      <td>1.600000</td>\n",
       "    </tr>\n",
       "    <tr>\n",
       "      <th>25%</th>\n",
       "      <td>74.375000</td>\n",
       "      <td>9.975000</td>\n",
       "      <td>12.750000</td>\n",
       "      <td>11.000000</td>\n",
       "    </tr>\n",
       "    <tr>\n",
       "      <th>50%</th>\n",
       "      <td>149.750000</td>\n",
       "      <td>22.900000</td>\n",
       "      <td>25.750000</td>\n",
       "      <td>16.000000</td>\n",
       "    </tr>\n",
       "    <tr>\n",
       "      <th>75%</th>\n",
       "      <td>218.825000</td>\n",
       "      <td>36.525000</td>\n",
       "      <td>45.100000</td>\n",
       "      <td>19.050000</td>\n",
       "    </tr>\n",
       "    <tr>\n",
       "      <th>max</th>\n",
       "      <td>296.400000</td>\n",
       "      <td>49.600000</td>\n",
       "      <td>114.000000</td>\n",
       "      <td>27.000000</td>\n",
       "    </tr>\n",
       "  </tbody>\n",
       "</table>\n",
       "</div>"
      ],
      "text/plain": [
       "               TV       Radio   Newspaper       Sales\n",
       "count  200.000000  200.000000  200.000000  200.000000\n",
       "mean   147.042500   23.264000   30.554000   15.130500\n",
       "std     85.854236   14.846809   21.778621    5.283892\n",
       "min      0.700000    0.000000    0.300000    1.600000\n",
       "25%     74.375000    9.975000   12.750000   11.000000\n",
       "50%    149.750000   22.900000   25.750000   16.000000\n",
       "75%    218.825000   36.525000   45.100000   19.050000\n",
       "max    296.400000   49.600000  114.000000   27.000000"
      ]
     },
     "execution_count": 22,
     "metadata": {},
     "output_type": "execute_result"
    }
   ],
   "source": [
    "data.describe()"
   ]
  },
  {
   "cell_type": "code",
   "execution_count": 23,
   "id": "c6d36ffa",
   "metadata": {},
   "outputs": [
    {
     "name": "stdout",
     "output_type": "stream",
     "text": [
      "<class 'pandas.core.frame.DataFrame'>\n",
      "RangeIndex: 200 entries, 0 to 199\n",
      "Data columns (total 4 columns):\n",
      " #   Column     Non-Null Count  Dtype  \n",
      "---  ------     --------------  -----  \n",
      " 0   TV         200 non-null    float64\n",
      " 1   Radio      200 non-null    float64\n",
      " 2   Newspaper  200 non-null    float64\n",
      " 3   Sales      200 non-null    float64\n",
      "dtypes: float64(4)\n",
      "memory usage: 6.4 KB\n"
     ]
    }
   ],
   "source": [
    "data.info()"
   ]
  },
  {
   "cell_type": "markdown",
   "id": "81323d73",
   "metadata": {},
   "source": [
    "## Data Wrangling\n",
    "\n",
    "### Find and handle missing  values"
   ]
  },
  {
   "cell_type": "code",
   "execution_count": 24,
   "id": "504a4aa3",
   "metadata": {},
   "outputs": [
    {
     "data": {
      "text/html": [
       "<div>\n",
       "<style scoped>\n",
       "    .dataframe tbody tr th:only-of-type {\n",
       "        vertical-align: middle;\n",
       "    }\n",
       "\n",
       "    .dataframe tbody tr th {\n",
       "        vertical-align: top;\n",
       "    }\n",
       "\n",
       "    .dataframe thead th {\n",
       "        text-align: right;\n",
       "    }\n",
       "</style>\n",
       "<table border=\"1\" class=\"dataframe\">\n",
       "  <thead>\n",
       "    <tr style=\"text-align: right;\">\n",
       "      <th></th>\n",
       "      <th>TV</th>\n",
       "      <th>Radio</th>\n",
       "      <th>Newspaper</th>\n",
       "      <th>Sales</th>\n",
       "    </tr>\n",
       "  </thead>\n",
       "  <tbody>\n",
       "    <tr>\n",
       "      <th>0</th>\n",
       "      <td>False</td>\n",
       "      <td>False</td>\n",
       "      <td>False</td>\n",
       "      <td>False</td>\n",
       "    </tr>\n",
       "    <tr>\n",
       "      <th>1</th>\n",
       "      <td>False</td>\n",
       "      <td>False</td>\n",
       "      <td>False</td>\n",
       "      <td>False</td>\n",
       "    </tr>\n",
       "    <tr>\n",
       "      <th>2</th>\n",
       "      <td>False</td>\n",
       "      <td>False</td>\n",
       "      <td>False</td>\n",
       "      <td>False</td>\n",
       "    </tr>\n",
       "    <tr>\n",
       "      <th>3</th>\n",
       "      <td>False</td>\n",
       "      <td>False</td>\n",
       "      <td>False</td>\n",
       "      <td>False</td>\n",
       "    </tr>\n",
       "    <tr>\n",
       "      <th>4</th>\n",
       "      <td>False</td>\n",
       "      <td>False</td>\n",
       "      <td>False</td>\n",
       "      <td>False</td>\n",
       "    </tr>\n",
       "  </tbody>\n",
       "</table>\n",
       "</div>"
      ],
      "text/plain": [
       "      TV  Radio  Newspaper  Sales\n",
       "0  False  False      False  False\n",
       "1  False  False      False  False\n",
       "2  False  False      False  False\n",
       "3  False  False      False  False\n",
       "4  False  False      False  False"
      ]
     },
     "execution_count": 24,
     "metadata": {},
     "output_type": "execute_result"
    }
   ],
   "source": [
    "missing_data = data.isnull()\n",
    "missing_data.head()"
   ]
  },
  {
   "cell_type": "code",
   "execution_count": 25,
   "id": "8ac32ff8",
   "metadata": {},
   "outputs": [
    {
     "name": "stdout",
     "output_type": "stream",
     "text": [
      "TV\n",
      "False    200\n",
      "Name: TV, dtype: int64\n",
      "Radio\n",
      "False    200\n",
      "Name: Radio, dtype: int64\n",
      "Newspaper\n",
      "False    200\n",
      "Name: Newspaper, dtype: int64\n",
      "Sales\n",
      "False    200\n",
      "Name: Sales, dtype: int64\n"
     ]
    }
   ],
   "source": [
    "# printing all the column names in the missing data and then counting and printing missing data count\n",
    "for column in list(missing_data.columns):\n",
    "    print(column)  # It will print all the column names\n",
    "    print(missing_data[column].value_counts()) #It will count the data values \n"
   ]
  },
  {
   "cell_type": "markdown",
   "id": "153e61c2",
   "metadata": {},
   "source": [
    "### By Looking these results it is clear that this data is clean and does not contain any missing values"
   ]
  },
  {
   "cell_type": "markdown",
   "id": "0f9b551d",
   "metadata": {},
   "source": [
    "## 1-  Exploring the relationships using plots."
   ]
  },
  {
   "cell_type": "markdown",
   "id": "6b9b388d",
   "metadata": {},
   "source": [
    "## Analysis between the Individual campaign spends and the Sales."
   ]
  },
  {
   "cell_type": "code",
   "execution_count": 26,
   "id": "29e06e01",
   "metadata": {},
   "outputs": [
    {
     "data": {
      "image/png": "[encoded data removed]",
      "text/plain": [
       "<Figure size 432x288 with 1 Axes>"
      ]
     },
     "metadata": {
      "needs_background": "light"
     },
     "output_type": "display_data"
    }
   ],
   "source": [
    "# Using matplotlib plotting the relationship\n",
    "plt.scatter(x=data['TV'], y=data['Sales'])\n",
    "plt.title('TV campaign spends vs Sales')\n",
    "plt.xlabel('TV')\n",
    "plt.ylabel('Sales')\n",
    "plt.show()"
   ]
  },
  {
   "cell_type": "markdown",
   "id": "63cce837",
   "metadata": {},
   "source": [
    "#### Plot between TV compaign and Sales shows that they have a  linear relationship"
   ]
  },
  {
   "cell_type": "code",
   "execution_count": 27,
   "id": "4f7f88b1",
   "metadata": {},
   "outputs": [
    {
     "data": {
      "image/png": "[encoded data removed]",
      "text/plain": [
       "<Figure size 432x288 with 1 Axes>"
      ]
     },
     "metadata": {
      "needs_background": "light"
     },
     "output_type": "display_data"
    }
   ],
   "source": [
    "# Relationship between Radio compeign and sales\n",
    "plt.scatter(x=data['Radio'], y=data['Sales'])\n",
    "plt.title('Radio campaign spends vs Sales')\n",
    "plt.xlabel('Radio')\n",
    "plt.ylabel('Sales')\n",
    "plt.show()"
   ]
  },
  {
   "cell_type": "markdown",
   "id": "55b45162",
   "metadata": {},
   "source": [
    "#### Plot between Radio and Sales shows that they  have a non-linear relationship"
   ]
  },
  {
   "cell_type": "code",
   "execution_count": 28,
   "id": "93c15b67",
   "metadata": {},
   "outputs": [
    {
     "data": {
      "image/png": "[encoded data removed]",
      "text/plain": [
       "<Figure size 432x288 with 1 Axes>"
      ]
     },
     "metadata": {
      "needs_background": "light"
     },
     "output_type": "display_data"
    }
   ],
   "source": [
    "# Using matplotlib plotting the relationship\n",
    "plt.scatter(x=data['Newspaper'], y=data['Sales'])\n",
    "plt.title('Newspaper campaign spends vs Sales')\n",
    "plt.xlabel('Newspaper')\n",
    "plt.ylabel('Sales')\n",
    "plt.show()"
   ]
  },
  {
   "cell_type": "markdown",
   "id": "87a47876",
   "metadata": {},
   "source": [
    "#### Plot between Newspaper and Sales shows that they have a non-linear relationship"
   ]
  },
  {
   "cell_type": "markdown",
   "id": "cebf0592",
   "metadata": {},
   "source": [
    "## 2- Exploring relationships strength using numbers - correlation"
   ]
  },
  {
   "cell_type": "code",
   "execution_count": 29,
   "id": "c0b4fd7b",
   "metadata": {},
   "outputs": [
    {
     "data": {
      "text/plain": [
       "array([[1.        , 0.90120791],\n",
       "       [0.90120791, 1.        ]])"
      ]
     },
     "execution_count": 29,
     "metadata": {},
     "output_type": "execute_result"
    }
   ],
   "source": [
    "# Correlation matrix between TV and Sales variables\n",
    "np.corrcoef(data['TV'], data['Sales'])"
   ]
  },
  {
   "cell_type": "markdown",
   "id": "72afbd44",
   "metadata": {},
   "source": [
    "### Very strong relationship between TV compaign and Sales"
   ]
  },
  {
   "cell_type": "code",
   "execution_count": 30,
   "id": "78b2d14a",
   "metadata": {},
   "outputs": [
    {
     "data": {
      "text/plain": [
       "array([[1.       , 0.3496311],\n",
       "       [0.3496311, 1.       ]])"
      ]
     },
     "execution_count": 30,
     "metadata": {},
     "output_type": "execute_result"
    }
   ],
   "source": [
    "# Correlation matrix between Radio and Sales variables\n",
    "np.corrcoef(data['Radio'], data['Sales'])"
   ]
  },
  {
   "cell_type": "markdown",
   "id": "642129ca",
   "metadata": {},
   "source": [
    "### Weak positive relationship between Radio compaign and Sales"
   ]
  },
  {
   "cell_type": "code",
   "execution_count": 31,
   "id": "510cdf10",
   "metadata": {},
   "outputs": [
    {
     "data": {
      "text/plain": [
       "array([[1.        , 0.15796003],\n",
       "       [0.15796003, 1.        ]])"
      ]
     },
     "execution_count": 31,
     "metadata": {},
     "output_type": "execute_result"
    }
   ],
   "source": [
    "# Correlation matrix between Newspaper and Sales variables\n",
    "np.corrcoef(data['Newspaper'], data['Sales'])"
   ]
  },
  {
   "cell_type": "markdown",
   "id": "475dfd08",
   "metadata": {},
   "source": [
    "### Very weak positive relationship between Newspaper campaign and Sales"
   ]
  },
  {
   "cell_type": "markdown",
   "id": "906b4d6d",
   "metadata": {},
   "source": [
    "## Correlation of all variables in a matrix"
   ]
  },
  {
   "cell_type": "code",
   "execution_count": 32,
   "id": "d235a768",
   "metadata": {},
   "outputs": [
    {
     "data": {
      "text/html": [
       "<div>\n",
       "<style scoped>\n",
       "    .dataframe tbody tr th:only-of-type {\n",
       "        vertical-align: middle;\n",
       "    }\n",
       "\n",
       "    .dataframe tbody tr th {\n",
       "        vertical-align: top;\n",
       "    }\n",
       "\n",
       "    .dataframe thead th {\n",
       "        text-align: right;\n",
       "    }\n",
       "</style>\n",
       "<table border=\"1\" class=\"dataframe\">\n",
       "  <thead>\n",
       "    <tr style=\"text-align: right;\">\n",
       "      <th></th>\n",
       "      <th>TV</th>\n",
       "      <th>Radio</th>\n",
       "      <th>Newspaper</th>\n",
       "      <th>Sales</th>\n",
       "    </tr>\n",
       "  </thead>\n",
       "  <tbody>\n",
       "    <tr>\n",
       "      <th>TV</th>\n",
       "      <td>1.000000</td>\n",
       "      <td>0.054809</td>\n",
       "      <td>0.056648</td>\n",
       "      <td>0.901208</td>\n",
       "    </tr>\n",
       "    <tr>\n",
       "      <th>Radio</th>\n",
       "      <td>0.054809</td>\n",
       "      <td>1.000000</td>\n",
       "      <td>0.354104</td>\n",
       "      <td>0.349631</td>\n",
       "    </tr>\n",
       "    <tr>\n",
       "      <th>Newspaper</th>\n",
       "      <td>0.056648</td>\n",
       "      <td>0.354104</td>\n",
       "      <td>1.000000</td>\n",
       "      <td>0.157960</td>\n",
       "    </tr>\n",
       "    <tr>\n",
       "      <th>Sales</th>\n",
       "      <td>0.901208</td>\n",
       "      <td>0.349631</td>\n",
       "      <td>0.157960</td>\n",
       "      <td>1.000000</td>\n",
       "    </tr>\n",
       "  </tbody>\n",
       "</table>\n",
       "</div>"
      ],
      "text/plain": [
       "                 TV     Radio  Newspaper     Sales\n",
       "TV         1.000000  0.054809   0.056648  0.901208\n",
       "Radio      0.054809  1.000000   0.354104  0.349631\n",
       "Newspaper  0.056648  0.354104   1.000000  0.157960\n",
       "Sales      0.901208  0.349631   0.157960  1.000000"
      ]
     },
     "execution_count": 32,
     "metadata": {},
     "output_type": "execute_result"
    }
   ],
   "source": [
    "data.corr()"
   ]
  },
  {
   "cell_type": "markdown",
   "id": "002c9d52",
   "metadata": {},
   "source": [
    "### Using Seaborn module to plot the correlation \n"
   ]
  },
  {
   "cell_type": "code",
   "execution_count": 33,
   "id": "2fc5648d",
   "metadata": {},
   "outputs": [
    {
     "data": {
      "image/png": "[encoded data removed]",
      "text/plain": [
       "<Figure size 432x288 with 2 Axes>"
      ]
     },
     "metadata": {
      "needs_background": "light"
     },
     "output_type": "display_data"
    }
   ],
   "source": [
    "sns.heatmap(data.corr(), cmap='coolwarm', annot=True)\n",
    "plt.show()"
   ]
  },
  {
   "cell_type": "markdown",
   "id": "9104cd10",
   "metadata": {},
   "source": [
    "### By looking at the correlation plot it is clear that TV compaign and Sales are highly correlated  but newspaper and Radio compaign have a weak correlation with the sales. "
   ]
  },
  {
   "cell_type": "markdown",
   "id": "3870b67a",
   "metadata": {},
   "source": [
    "## 3- Determining  if the individual features are statistically significant relative to the Sales by getting the p-values for the features.\n",
    "\n"
   ]
  },
  {
   "cell_type": "markdown",
   "id": "60d3b3a3",
   "metadata": {},
   "source": [
    "## hypothesis\n",
    "#### ho = \"There is a relationship linear relationship between TV/Radio/Newspaper compaign and Sales\"\n",
    "#### h1 = \"There is non-linear relationship between TV/Radio/Newspaper compaign and Sales\"\n",
    "#### significance level = 0.05"
   ]
  },
  {
   "cell_type": "markdown",
   "id": "d309b025",
   "metadata": {},
   "source": [
    "## Calculating p-value for all three advertising compaigns and Sales"
   ]
  },
  {
   "cell_type": "code",
   "execution_count": 15,
   "id": "1abdb4e3",
   "metadata": {},
   "outputs": [
    {
     "name": "stdout",
     "output_type": "stream",
     "text": [
      "The Pearson Correlation Coefficient is 0.9012079133023309 with a p_value of P = 7.927911625320818e-74\n"
     ]
    }
   ],
   "source": [
    "pearson_coef, p_value = stats.pearsonr(data['TV'], data['Sales'])\n",
    "print(f\"The Pearson Correlation Coefficient is {pearson_coef} with a p_value of P = {p_value}\")\n"
   ]
  },
  {
   "cell_type": "markdown",
   "id": "a0d4d1e8",
   "metadata": {},
   "source": [
    "## Conclusion\n",
    "\n",
    "#### Since the P-Value < 0.05 the correlation between TV advertising compaign and Sales is statistically significant, and the linear relationship is very very strong of 0.901208\n"
   ]
  },
  {
   "cell_type": "code",
   "execution_count": 16,
   "id": "b32c38d3",
   "metadata": {},
   "outputs": [
    {
     "name": "stdout",
     "output_type": "stream",
     "text": [
      "The Pearson Correlation Coefficient is 0.3496310970076692 with a p_value of P = 3.882892364494171e-07\n"
     ]
    }
   ],
   "source": [
    "pearson_coef, p_value = stats.pearsonr(data['Radio'], data['Sales'])\n",
    "print(f\"The Pearson Correlation Coefficient is {pearson_coef} with a p_value of P = {p_value}\")"
   ]
  },
  {
   "cell_type": "markdown",
   "id": "2116fc3a",
   "metadata": {},
   "source": [
    "## Conclusion\n",
    "\n",
    "#### Since the P-Value < 0.05 the correlation between Radio advertising compaign and Sales is statistically significant, and the linear relationship is not very strong of 0.349361"
   ]
  },
  {
   "cell_type": "code",
   "execution_count": 34,
   "id": "55e85313",
   "metadata": {},
   "outputs": [
    {
     "name": "stdout",
     "output_type": "stream",
     "text": [
      "The Pearson Correlation Coefficient is 0.15796002615492633 with a p_value of P = 0.025487444306997908\n"
     ]
    }
   ],
   "source": [
    "pearson_coef, p_value = stats.pearsonr(data['Newspaper'], data['Sales'])\n",
    "print(f\"The Pearson Correlation Coefficient is {pearson_coef} with a p_value of P = {p_value}\")"
   ]
  },
  {
   "cell_type": "markdown",
   "id": "ff98255d",
   "metadata": {},
   "source": [
    "## Conclusion\n",
    "\n",
    "#### Since the P-Value < 0.05 the correlation between Newspaper advertising compaign and Sales is statistically significant, and the linear relationship is  very very weak of 0.157960"
   ]
  },
  {
   "cell_type": "markdown",
   "id": "0d27a108",
   "metadata": {},
   "source": [
    "## 4. Discuss the possibility of Correlation, Causation or both between the individual features and the Sales."
   ]
  },
  {
   "cell_type": "markdown",
   "id": "f1eaf4af",
   "metadata": {},
   "source": [
    "#### 1. From the correlation metrix it is clear that TV adversting compaign and Sales have a high positive correlation and we can say that TV advertising compaign are causing more sales\n",
    "#### 2. From the correlation metrix it is clear that Radio and Newspaper adversting compaign and Sales have a  positive weak correlation and but it is not sure are these compaign really causing the sales."
   ]
  }
 ],
 "metadata": {
  "kernelspec": {
   "display_name": "Python 3 (ipykernel)",
   "language": "python",
   "name": "python3"
  },
  "language_info": {
   "codemirror_mode": {
    "name": "ipython",
    "version": 3
   },
   "file_extension": ".py",
   "mimetype": "text/x-python",
   "name": "python",
   "nbconvert_exporter": "python",
   "pygments_lexer": "ipython3",
   "version": "3.9.12"
  }
 },
 "nbformat": 4,
 "nbformat_minor": 5
}
